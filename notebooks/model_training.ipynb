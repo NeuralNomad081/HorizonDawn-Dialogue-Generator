{
 "cells": [
  {
   "cell_type": "markdown",
   "metadata": {},
   "source": [
    "# Model Training Notebook\n",
    "\n",
    "This notebook fine-tunes a language model on game dialogue data to create a dialogue generator."
   ]
  },
  {
   "cell_type": "code",
   "execution_count": null,
   "metadata": {},
   "outputs": [],
   "source": [
    "import os\n",
    "import pandas as pd\n",
    "from transformers import AutoTokenizer, AutoModelForCausalLM\n",
    "from transformers import Trainer, TrainingArguments, DataCollatorForLanguageModeling\n",
    "from datasets import Dataset\n",
    "import torch"
   ]
  },
  {
   "cell_type": "markdown",
   "metadata": {},
   "source": [
    "## 1. Set Up Model Parameters and Configuration"
   ]
  },
  {
   "cell_type": "code",
   "execution_count": null,
   "metadata": {},
   "outputs": [],
   "source": [
    "# Define model and parameters - REDUCED MEMORY FOOTPRINT\n",
    "model_name = \"gpt2\"  # Use smaller model (124M parameters instead of 355M)\n",
    "output_dir = \"../models/dialogue_generator_gpt2\"  # Updated output directory\n",
    "batch_size = 2  # Reduced batch size for lower memory usage\n",
    "num_epochs = 8  # Can train longer with smaller model\n",
    "learning_rate = 5e-5  # Default learning rate for GPT-2\n",
    "\n",
    "# Add gradient accumulation to compensate for smaller batch size\n",
    "gradient_accumulation_steps = 4\n",
    "\n",
    "# Reduce sequence length\n",
    "max_seq_length = 256  # Reduced from 512\n",
    "\n",
    "# Set up device - prioritize NVIDIA GPU if available\n",
    "if torch.cuda.is_available():\n",
    "    device = 'cuda'\n",
    "    print(f\"Using CUDA device: {torch.cuda.get_device_name(0)}\")\n",
    "elif torch.backends.mps.is_available():\n",
    "    try:\n",
    "        # Test MPS with a small tensor operation\n",
    "        x = torch.zeros(1).to('mps')\n",
    "        device = 'mps'\n",
    "        print(\"Using MPS device\")\n",
    "    except:\n",
    "        device = 'cpu'\n",
    "        print(\"MPS available but encountered issues, falling back to CPU\")\n",
    "else:\n",
    "    device = 'cpu'\n",
    "    print(\"No GPU available, using CPU\")"
   ]
  },
  {
   "cell_type": "markdown",
   "metadata": {},
   "source": [
    "## 2. Load and Prepare Training Data"
   ]
  },
  {
   "cell_type": "code",
   "execution_count": null,
   "metadata": {},
   "outputs": [],
   "source": [
    "# Load the data\n",
    "print(\"Loading data...\")\n",
    "\n",
    "# Update paths to match your directory structure\n",
    "base_data_dir = \"../data/processed\"  # Updated path to point to data directory\n",
    "\n",
    "# First check if the formatted files exist\n",
    "if os.path.exists(f\"{base_data_dir}/train_formatted.csv\"):\n",
    "    train_df = pd.read_csv(f\"{base_data_dir}/train_formatted.csv\")\n",
    "    val_df = pd.read_csv(f\"{base_data_dir}/val_formatted.csv\")\n",
    "else:\n",
    "    # If not, use the raw1 files\n",
    "    if os.path.exists(f\"{base_data_dir}/raw1_train.csv\"):\n",
    "        train_df = pd.read_csv(f\"{base_data_dir}/raw1_train.csv\")\n",
    "        val_df = pd.read_csv(f\"{base_data_dir}/raw1_val.csv\")\n",
    "    else:\n",
    "        # If neither exists, use the raw1_dialogues to create quick train/val sets\n",
    "        print(f\"Creating quick train/val splits from {base_data_dir}/raw1_dialogues.csv\")\n",
    "        \n",
    "        # Make sure the directory exists before trying to access files\n",
    "        if not os.path.exists(base_data_dir):\n",
    "            os.makedirs(base_data_dir, exist_ok=True)\n",
    "            raise FileNotFoundError(f\"Directory {base_data_dir} was created, but no data files exist yet. Please run process_data.py first.\")\n",
    "            \n",
    "        if not os.path.exists(f\"{base_data_dir}/raw1_dialogues.csv\"):\n",
    "            raise FileNotFoundError(f\"File {base_data_dir}/raw1_dialogues.csv not found. Please run process_data.py first.\")\n",
    "            \n",
    "        dialogues_df = pd.read_csv(f\"{base_data_dir}/raw1_dialogues.csv\")\n",
    "        \n",
    "        # Create training examples with basic prompts\n",
    "        examples = []\n",
    "        for _, row in dialogues_df.iterrows():\n",
    "            # Check which column name is actually used - source_file or source\n",
    "            source_col = 'source_file' if 'source_file' in dialogues_df.columns else 'source'\n",
    "            if source_col not in dialogues_df.columns:\n",
    "                print(f\"Warning: Neither 'source_file' nor 'source' column found in dialogues CSV.\")\n",
    "                print(f\"Available columns: {dialogues_df.columns.tolist()}\")\n",
    "                source = \"unknown\"\n",
    "            else:\n",
    "                source = row[source_col]\n",
    "                if isinstance(source, str) and source.endswith('.json'):\n",
    "                    source = source.replace('.json', '')\n",
    "                \n",
    "            dialogue = row['dialogue']\n",
    "            if isinstance(dialogue, str) and dialogue.strip():\n",
    "                prompt = f\"Generate dialogue for scene '{source}':\"\n",
    "                example_dict = {\n",
    "                    'source': source,\n",
    "                    'prompt': prompt,\n",
    "                    'completion': dialogue,\n",
    "                    'full_text': f\"{prompt}\\n\\n{dialogue}\"\n",
    "                }\n",
    "                \n",
    "                # Add dialogueID if it exists\n",
    "                if 'dialogueID' in dialogues_df.columns:\n",
    "                    example_dict['dialogueID'] = row['dialogueID']\n",
    "                    \n",
    "                examples.append(example_dict)\n",
    "        \n",
    "        # Convert to DataFrame and split\n",
    "        examples_df = pd.DataFrame(examples)\n",
    "        \n",
    "        if examples_df.empty:\n",
    "            raise ValueError(\"No valid examples could be created from the dialogues file.\")\n",
    "            \n",
    "        examples_df = examples_df.sample(frac=1, random_state=42).reset_index(drop=True)\n",
    "        \n",
    "        # Use 80% for train, 20% for validation\n",
    "        split_idx = int(0.8 * len(examples_df))\n",
    "        train_df = examples_df[:split_idx]\n",
    "        val_df = examples_df[split_idx:]\n",
    "        \n",
    "        # Save the train/val splits for future use\n",
    "        train_df.to_csv(f\"{base_data_dir}/raw1_train.csv\", index=False)\n",
    "        val_df.to_csv(f\"{base_data_dir}/raw1_val.csv\", index=False)\n",
    "        print(f\"Saved train/val splits to {base_data_dir}\")"
   ]
  },
  {
   "cell_type": "code",
   "execution_count": null,
   "metadata": {},
   "outputs": [],
   "source": [
    "# Use more data for the full model - up to 100 examples\n",
    "if not train_df.empty:\n",
    "    train_df = train_df.sample(min(100, len(train_df)), random_state=42)\n",
    "if not val_df.empty:\n",
    "    val_df = val_df.sample(min(20, len(val_df)), random_state=42)\n",
    "\n",
    "print(f\"Using {len(train_df)} training examples and {len(val_df)} validation examples\")\n",
    "\n",
    "# Show some examples of the data\n",
    "print(\"\\nSample training example:\")\n",
    "if not train_df.empty:\n",
    "    if 'full_text' in train_df.columns:\n",
    "        print(train_df['full_text'].iloc[0][:200] + \"...\")\n",
    "    else:\n",
    "        print(\"WARNING: 'full_text' column not found in data\")\n",
    "        # Show what columns we do have\n",
    "        print(f\"Available columns: {train_df.columns.tolist()}\")\n",
    "        # Try to adapt to available columns\n",
    "        if 'prompt' in train_df.columns and 'completion' in train_df.columns:\n",
    "            train_df['full_text'] = train_df['prompt'] + \"\\n\\n\" + train_df['completion']\n",
    "            val_df['full_text'] = val_df['prompt'] + \"\\n\\n\" + val_df['completion']\n",
    "        else:\n",
    "            raise ValueError(\"Data does not have required columns for training\")\n",
    "else:\n",
    "    raise ValueError(\"No training data available\")"
   ]
  },
  {
   "cell_type": "markdown",
   "metadata": {},
   "source": [
    "## 3. Prepare Datasets and Tokenizer"
   ]
  },
  {
   "cell_type": "code",
   "execution_count": null,
   "metadata": {},
   "outputs": [],
   "source": [
    "# Convert to Hugging Face Datasets\n",
    "train_dataset = Dataset.from_pandas(train_df)\n",
    "val_dataset = Dataset.from_pandas(val_df)\n",
    "\n",
    "# Load tokenizer and model\n",
    "print(f\"Loading {model_name} model and tokenizer...\")\n",
    "tokenizer = AutoTokenizer.from_pretrained(model_name)\n",
    "model = AutoModelForCausalLM.from_pretrained(model_name)\n",
    "\n",
    "# Move model to device\n",
    "model = model.to(device)\n",
    "\n",
    "# If the tokenizer doesn't have a pad token, set it\n",
    "if tokenizer.pad_token is None:\n",
    "    tokenizer.pad_token = tokenizer.eos_token"
   ]
  },
  {
   "cell_type": "code",
   "execution_count": null,
   "metadata": {},
   "outputs": [],
   "source": [
    "# Function to tokenize inputs with reduced context window\n",
    "def tokenize_function(examples):\n",
    "    # Tokenize the text with shorter sequence length to save memory\n",
    "    outputs = tokenizer(\n",
    "        examples[\"full_text\"], \n",
    "        padding=\"max_length\", \n",
    "        truncation=True, \n",
    "        max_length=max_seq_length,  # Reduced from 512 for memory savings\n",
    "        return_tensors=None  # Return Python lists instead of tensors\n",
    "    )\n",
    "    \n",
    "    # The labels are the same as inputs for causal LM\n",
    "    outputs[\"labels\"] = outputs[\"input_ids\"].copy()\n",
    "    \n",
    "    return outputs\n",
    "\n",
    "# Apply tokenization\n",
    "print(\"Tokenizing datasets...\")\n",
    "train_tokenized = train_dataset.map(tokenize_function, batched=True, remove_columns=train_dataset.column_names)\n",
    "val_tokenized = val_dataset.map(tokenize_function, batched=True, remove_columns=val_dataset.column_names)"
   ]
  },
  {
   "cell_type": "markdown",
   "metadata": {},
   "source": [
    "## 4. Set Up Training Configuration"
   ]
  },
  {
   "cell_type": "code",
   "execution_count": null,
   "metadata": {},
   "outputs": [],
   "source": [
    "# Create output directory if it doesn't exist\n",
    "os.makedirs(output_dir, exist_ok=True)\n",
    "\n",
    "# Create data collator for language modeling\n",
    "data_collator = DataCollatorForLanguageModeling(\n",
    "    tokenizer=tokenizer,\n",
    "    mlm=False  # We're doing causal language modeling, not masked language modeling\n",
    ")\n",
    "\n",
    "# Set up training arguments with memory optimization\n",
    "training_args = TrainingArguments(\n",
    "    output_dir=output_dir,\n",
    "    num_train_epochs=num_epochs,\n",
    "    per_device_train_batch_size=batch_size,\n",
    "    per_device_eval_batch_size=batch_size,\n",
    "    gradient_accumulation_steps=gradient_accumulation_steps,\n",
    "    warmup_steps=100,\n",
    "    weight_decay=0.01,\n",
    "    logging_dir=\"../logs\",\n",
    "    logging_steps=10,\n",
    "    save_steps=100,\n",
    "    save_total_limit=2,  # Keep fewer checkpoints to save disk space\n",
    "    learning_rate=learning_rate,\n",
    "    # Set memory optimizations\n",
    "    fp16=True,  # Use mixed precision training\n",
    "    gradient_checkpointing=True,  # Trade computation for memory\n",
    "    optim=\"adamw_torch\",  # Use memory-efficient optimizer\n",
    "    report_to=\"none\"  # Disable reporting to save memory\n",
    ")\n",
    "\n",
    "# Set up trainer with data collator\n",
    "trainer = Trainer(\n",
    "    model=model,\n",
    "    args=training_args,\n",
    "    train_dataset=train_tokenized,\n",
    "    eval_dataset=val_tokenized,\n",
    "    data_collator=data_collator\n",
    ")"
   ]
  },
  {
   "cell_type": "markdown",
   "metadata": {},
   "source": [
    "## 5. Train the Model"
   ]
  },
  {
   "cell_type": "code",
   "execution_count": null,
   "metadata": {},
   "outputs": [],
   "source": [
    "# Train the model\n",
    "print(\"Starting training...\")\n",
    "trainer.train()"
   ]
  },
  {
   "cell_type": "code",
   "execution_count": null,
   "metadata": {},
   "outputs": [],
   "source": [
    "# Save the final model\n",
    "trainer.save_model(output_dir)\n",
    "tokenizer.save_pretrained(output_dir)\n",
    "print(f\"Model saved to {output_dir}\")"
   ]
  },
  {
   "cell_type": "markdown",
   "metadata": {},
   "source": [
    "## 6. Generate Samples to Test the Model"
   ]
  },
  {
   "cell_type": "code",
   "execution_count": null,
   "metadata": {},
   "outputs": [],
   "source": [
    "# Generate a sample from the trained model with improved generation parameters\n",
    "print(\"\\nGenerating a sample from the trained model:\")\n",
    "sample_prompt = \"Generate dialogue for scene 'Test Scene':\"\n",
    "inputs = tokenizer(sample_prompt, return_tensors=\"pt\").to(device)\n",
    "outputs = model.generate(\n",
    "    **inputs, \n",
    "    max_length=200,  # Increased from 100 for longer outputs\n",
    "    temperature=0.8,  # Slightly higher temperature for more creativity\n",
    "    num_return_sequences=1,\n",
    "    do_sample=True,\n",
    "    top_p=0.92,\n",
    "    no_repeat_ngram_size=2,\n",
    "    top_k=50\n",
    ")\n",
    "generated_text = tokenizer.decode(outputs[0], skip_special_tokens=True)\n",
    "print(\"\\n\" + \"=\"*40)\n",
    "print(generated_text)\n",
    "print(\"=\"*40)"
   ]
  },
  {
   "cell_type": "markdown",
   "metadata": {},
   "source": [
    "## 7. Try Different Generation Prompts"
   ]
  },
  {
   "cell_type": "code",
   "execution_count": null,
   "metadata": {},
   "outputs": [],
   "source": [
    "def generate_and_display(prompt, temperature=0.8, max_length=300):\n",
    "    \"\"\"Generate text and display it nicely\"\"\"\n",
    "    print(f\"Prompt: {prompt}\\n\")\n",
    "    \n",
    "    inputs = tokenizer(prompt, return_tensors=\"pt\").to(device)\n",
    "    outputs = model.generate(\n",
    "        **inputs,\n",
    "        max_length=max_length,\n",
    "        temperature=temperature,\n",
    "        do_sample=True,\n",
    "        top_p=0.92,\n",
    "        no_repeat_ngram_size=2,\n",
    "        top_k=50\n",
    "    )\n",
    "    \n",
    "    generated_text = tokenizer.decode(outputs[0], skip_special_tokens=True)\n",
    "    \n",
    "    # Extract just the generated part (after the prompt)\n",
    "    if generated_text.startswith(prompt):\n",
    "        generated_part = generated_text[len(prompt):].strip()\n",
    "    else:\n",
    "        generated_part = generated_text\n",
    "    \n",
    "    print(\"Generated:\")\n",
    "    print(\"-\" * 80)\n",
    "    print(generated_part)\n",
    "    print(\"-\" * 80)\n",
    "    print()\n",
    "    \n",
    "    return generated_part"
   ]
  },
  {
   "cell_type": "code",
   "execution_count": null,
   "metadata": {},
   "outputs": [],
   "source": [
    "# Try different prompts\n",
    "prompts = [\n",
    "    \"Generate dialogue for scene 'Forest Encounter':\",\n",
    "    \"Generate dialogue for scene 'City Market':\",\n",
    "    \"Generate dialogue for scene 'Mountain Pass':\"\n",
    "]\n",
    "\n",
    "for prompt in prompts:\n",
    "    generate_and_display(prompt)"
   ]
  },
  {
   "cell_type": "markdown",
   "metadata": {},
   "source": [
    "## 8. Experiment with Different Generation Parameters"
   ]
  },
  {
   "cell_type": "code",
   "execution_count": null,
   "metadata": {},
   "outputs": [],
   "source": [
    "# Test how temperature affects generation\n",
    "test_prompt = \"Generate dialogue for scene 'Mysterious Cave':\"\n",
    "\n",
    "print(\"Low temperature (0.3) - More focused/deterministic:\")\n",
    "generate_and_display(test_prompt, temperature=0.3)\n",
    "\n",
    "print(\"Medium temperature (0.7) - Balanced:\")\n",
    "generate_and_display(test_prompt, temperature=0.7)\n",
    "\n",
    "print(\"High temperature (1.2) - More creative/random:\")\n",
    "generate_and_display(test_prompt, temperature=1.2)"
   ]
  }
 ],
 "metadata": {
  "kernelspec": {
   "display_name": "Python 3",
   "language": "python",
   "name": "python3"
  },
  "language_info": {
   "codemirror_mode": {
    "name": "ipython",
    "version": 3
   },
   "file_extension": ".py",
   "mimetype": "text/x-python",
   "name": "python",
   "nbconvert_exporter": "python",
   "pygments_lexer": "ipython3",
   "version": "3.8.5"
  }
 },
 "nbformat": 4,
 "nbformat_minor": 4
}
